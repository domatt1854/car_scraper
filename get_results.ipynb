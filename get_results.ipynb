{
 "cells": [
  {
   "cell_type": "code",
   "execution_count": 3,
   "metadata": {},
   "outputs": [],
   "source": [
    "from bs4 import BeautifulSoup\n",
    "import requests\n",
    "import pandas as pd\n",
    "from requests.adapters import HTTPAdapter\n",
    "from requests.packages.urllib3.util.retry import Retry\n",
    "import random\n",
    "from time import sleep"
   ]
  },
  {
   "cell_type": "code",
   "execution_count": 4,
   "metadata": {},
   "outputs": [],
   "source": [
    "\n",
    "i = 1\n",
    "website = 'https://www.cars.com/shopping/results/?page={}&page_size=100&list_price_max=&makes[]=mercedes_benz&maximum_distance=all&models[]=&stock_type=cpo&zip='.format(i)\n"
   ]
  },
  {
   "cell_type": "code",
   "execution_count": 5,
   "metadata": {},
   "outputs": [],
   "source": [
    "response = requests.get(website)"
   ]
  },
  {
   "cell_type": "code",
   "execution_count": 8,
   "metadata": {},
   "outputs": [
    {
     "data": {
      "text/plain": [
       "[<span class=\"total-filter-count\">\n",
       "     9,893 matches\n",
       "   </span>,\n",
       " <span class=\"total-filter-count\">\n",
       "     9,893 matches\n",
       "   </span>]"
      ]
     },
     "execution_count": 8,
     "metadata": {},
     "output_type": "execute_result"
    }
   ],
   "source": [
    "# search_form_container\n",
    "\n",
    "\n",
    "\n",
    "soup = BeautifulSoup(\n",
    "    response.content,\n",
    "    'html.parser'\n",
    ")     \n",
    "\n",
    "results = soup.find_all('span', {'class': 'total-filter-count'})\n",
    "\n",
    "results"
   ]
  },
  {
   "cell_type": "code",
   "execution_count": 14,
   "metadata": {},
   "outputs": [
    {
     "data": {
      "text/plain": [
       "'9,893 matches'"
      ]
     },
     "execution_count": 14,
     "metadata": {},
     "output_type": "execute_result"
    }
   ],
   "source": [
    "results[0].get_text().strip()"
   ]
  },
  {
   "cell_type": "code",
   "execution_count": 22,
   "metadata": {},
   "outputs": [],
   "source": [
    "main_website = \"https://www.cars.com/\"\n",
    "\n",
    "response_main = requests.get(main_website)\n",
    "\n",
    "#response_main.text"
   ]
  },
  {
   "cell_type": "code",
   "execution_count": 24,
   "metadata": {},
   "outputs": [
    {
     "data": {
      "text/plain": [
       "[<select class=\"sds-text-field\" id=\"lead_make_select-modal-\" name=\"lead[trade_in][make]\"><optgroup label=\"\"><option selected=\"\" value=\"\">Choose a make</option><option value=\"ac\">AC</option><option value=\"acura\">Acura</option><option value=\"alfa_romeo\">Alfa Romeo</option><option value=\"american_motors\">American Motors</option><option value=\"am_general\">Am General</option><option value=\"aston_martin\">Aston Martin</option><option value=\"auburn\">Auburn</option><option value=\"audi\">Audi</option><option value=\"austin\">Austin</option><option value=\"austin_healey\">Austin-Healey</option><option value=\"avanti_motors\">Avanti Motors</option><option value=\"bentley\">Bentley</option><option value=\"bmw\">BMW</option><option value=\"bricklin\">Bricklin</option><option value=\"bugatti\">Bugatti</option><option value=\"buick\">Buick</option><option value=\"cadillac\">Cadillac</option><option value=\"checker\">Checker</option><option value=\"chevrolet\">Chevrolet</option><option value=\"chrysler\">Chrysler</option><option value=\"citroen\">Citroen</option><option value=\"daewoo\">Daewoo</option><option value=\"daihatsu\">Daihatsu</option><option value=\"datsun\">Datsun</option><option value=\"delahaye\">Delahaye</option><option value=\"delorean\">Delorean</option><option value=\"desoto\">Desoto</option><option value=\"detomaso\">DeTomaso</option><option value=\"dodge\">Dodge</option><option value=\"eagle\">Eagle</option><option value=\"edsel\">Edsel</option><option value=\"essex\">Essex</option><option value=\"ferrari\">Ferrari</option><option value=\"fiat\">FIAT</option><option value=\"fisker\">Fisker</option><option value=\"ford\">Ford</option><option value=\"franklin\">Franklin</option><option value=\"genesis\">Genesis</option><option value=\"geo\">Geo</option><option value=\"gmc\">GMC</option><option value=\"honda\">Honda</option><option value=\"hudson\">Hudson</option><option value=\"hummer\">Hummer</option><option value=\"hupmobile\">Hupmobile</option><option value=\"hyundai\">Hyundai</option><option value=\"infiniti\">INFINITI</option><option value=\"international\">International</option><option value=\"isuzu\">Isuzu</option><option value=\"jaguar\">Jaguar</option><option value=\"jeep\">Jeep</option><option value=\"jensen\">Jensen</option><option value=\"kaiser\">Kaiser</option><option value=\"karma\">Karma</option><option value=\"kia\">Kia</option><option value=\"koenigsegg\">Koenigsegg</option><option value=\"lamborghini\">Lamborghini</option><option value=\"lancia\">Lancia</option><option value=\"land_rover\">Land Rover</option><option value=\"lasalle\">LaSalle</option><option value=\"lexus\">Lexus</option><option value=\"lincoln\">Lincoln</option><option value=\"lotus\">Lotus</option><option value=\"lucid\">Lucid</option><option value=\"maserati\">Maserati</option><option value=\"maybach\">Maybach</option><option value=\"mazda\">Mazda</option><option value=\"mclaren\">McLaren</option><option value=\"mercedes_benz\">Mercedes-Benz</option><option value=\"mercury\">Mercury</option><option value=\"merkur\">Merkur</option><option value=\"mg\">MG</option><option value=\"mini\">MINI</option><option value=\"mitsubishi\">Mitsubishi</option><option value=\"morgan\">Morgan</option><option value=\"morris\">Morris</option><option value=\"nash\">Nash</option><option value=\"nissan\">Nissan</option><option value=\"oldsmobile\">Oldsmobile</option><option value=\"opel\">Opel</option><option value=\"packard\">Packard</option><option value=\"pagani\">Pagani</option><option value=\"panoz\">Panoz</option><option value=\"peugeot\">Peugeot</option><option value=\"plymouth\">Plymouth</option><option value=\"polestar\">Polestar</option><option value=\"pontiac\">Pontiac</option><option value=\"porsche\">Porsche</option><option value=\"qvale\">Qvale</option><option value=\"ram\">RAM</option><option value=\"renault\">Renault</option><option value=\"rivian\">Rivian</option><option value=\"rolls_royce\">Rolls-Royce</option><option value=\"rover\">Rover</option><option value=\"saab\">Saab</option><option value=\"saleen\">Saleen</option><option value=\"saturn\">Saturn</option><option value=\"scion\">Scion</option><option value=\"smart\">smart</option><option value=\"spyker\">Spyker</option><option value=\"sterling\">Sterling</option><option value=\"studebaker\">Studebaker</option><option value=\"subaru\">Subaru</option><option value=\"sunbeam\">Sunbeam</option><option value=\"suzuki\">Suzuki</option><option value=\"tesla\">Tesla</option><option value=\"toyota\">Toyota</option><option value=\"triumph\">Triumph</option><option value=\"tvr\">TVR</option><option value=\"volkswagen\">Volkswagen</option><option value=\"volvo\">Volvo</option><option value=\"willys\">Willys</option><option value=\"yugo\">Yugo</option></optgroup></select>,\n",
       " <select class=\"sds-text-field\" disabled=\"\" id=\"lead_model_select-modal-\" name=\"lead[trade_in][model]\"><optgroup label=\"\"><option selected=\"\" value=\"\">Choose a model</option></optgroup></select>,\n",
       " <select class=\"sds-text-field\" disabled=\"\" id=\"lead_year_select-modal-\" name=\"lead[trade_in][year]\"><optgroup label=\"\"><option selected=\"\" value=\"\">Choose a year</option></optgroup></select>,\n",
       " <select class=\"sds-text-field\" data-activitykey=\"sort-dropdown\" data-component=\"sort-apply\" id=\"sort-dropdown\" name=\"sort\" phx-page-loading=\"\"><option selected=\"\" value=\"best_match_desc\">Best match</option><option value=\"list_price\">Lowest price</option><option value=\"list_price_desc\">Highest price</option><option value=\"mileage\">Lowest mileage</option><option value=\"mileage_desc\">Highest mileage</option><option value=\"distance\">Nearest location</option><option value=\"best_deal\">Best deal</option><option value=\"year_desc\">Newest year</option><option value=\"year\">Oldest year</option><option value=\"listed_at_desc\">Newest listed</option><option value=\"listed_at\">Oldest listed</option></select>,\n",
       " <select aria-label=\"Results per page\" class=\"sds-text-field\" id=\"pagination-dropdown\" name=\"page_size\" phx-page-loading=\"\"><option value=\"10\">10 results per page</option><option value=\"20\">20 results per page</option><option value=\"30\">30 results per page</option><option value=\"50\">50 results per page</option><option selected=\"\" value=\"100\">100 results per page</option></select>,\n",
       " <select class=\"sds-text-field\" data-activity-rule-type=\"pageview\" data-activitykey=\"mobile_location-distance\" data-component=\"filter-apply\" id=\"mobile_location-distance\" name=\"maximum_distance\"><option value=\"10\">10 miles</option><option value=\"20\">20 miles</option><option value=\"30\">30 miles</option><option value=\"40\">40 miles</option><option value=\"50\">50 miles</option><option value=\"75\">75 miles</option><option value=\"100\">100 miles</option><option value=\"150\">150 miles</option><option value=\"200\">200 miles</option><option value=\"250\">250 miles</option><option value=\"500\">500 miles</option><option selected=\"\" value=\"all\">All miles from</option></select>,\n",
       " <select class=\"sds-text-field\" data-activity-rule-type=\"pageview\" data-activitykey=\"mobile_year_year_min_select\" data-component=\"filter-apply\" id=\"mobile_year_year_min_select\" name=\"year_min\"><option selected=\"\" value=\"\">Oldest</option><option value=\"2022\">2022</option><option value=\"2021\">2021</option><option value=\"2020\">2020</option><option value=\"2019\">2019</option><option value=\"2018\">2018</option><option value=\"2017\">2017</option><option value=\"2016\">2016</option><option value=\"2014\">2014</option></select>,\n",
       " <select class=\"sds-text-field\" data-activity-rule-type=\"pageview\" data-activitykey=\"mobile_year_year_max_select\" data-component=\"filter-apply\" id=\"mobile_year_year_max_select\" name=\"year_max\"><option selected=\"\" value=\"\">Newest</option><option value=\"2022\">2022</option><option value=\"2021\">2021</option><option value=\"2020\">2020</option><option value=\"2019\">2019</option><option value=\"2018\">2018</option><option value=\"2017\">2017</option><option value=\"2016\">2016</option><option value=\"2014\">2014</option></select>,\n",
       " <select class=\"sds-text-field\" data-activity-rule-type=\"pageview\" data-activitykey=\"mobile_price_list_price_min_select\" data-component=\"filter-apply\" id=\"mobile_price_list_price_min_select\" name=\"list_price_min\"><option selected=\"\" value=\"\">Lowest</option><option value=\"12000\">$12,000</option><option value=\"14000\">$14,000</option><option value=\"16000\">$16,000</option><option value=\"18000\">$18,000</option><option value=\"20000\">$20,000</option><option value=\"25000\">$25,000</option><option value=\"30000\">$30,000</option><option value=\"35000\">$35,000</option><option value=\"40000\">$40,000</option><option value=\"45000\">$45,000</option><option value=\"50000\">$50,000</option><option value=\"60000\">$60,000</option><option value=\"70000\">$70,000</option><option value=\"80000\">$80,000</option><option value=\"90000\">$90,000</option><option value=\"100000\">$100,000</option></select>,\n",
       " <select class=\"sds-text-field\" data-activity-rule-type=\"pageview\" data-activitykey=\"mobile_price_list_price_max_select\" data-component=\"filter-apply\" id=\"mobile_price_list_price_max_select\" name=\"list_price_max\"><option selected=\"\" value=\"\">Highest</option><option value=\"12000\">$12,000</option><option value=\"14000\">$14,000</option><option value=\"16000\">$16,000</option><option value=\"18000\">$18,000</option><option value=\"20000\">$20,000</option><option value=\"25000\">$25,000</option><option value=\"30000\">$30,000</option><option value=\"35000\">$35,000</option><option value=\"40000\">$40,000</option><option value=\"45000\">$45,000</option><option value=\"50000\">$50,000</option><option value=\"60000\">$60,000</option><option value=\"70000\">$70,000</option><option value=\"80000\">$80,000</option><option value=\"90000\">$90,000</option><option value=\"100000\">$100,000</option></select>,\n",
       " <select class=\"sds-text-field\" data-activity-rule-type=\"pageview\" data-activitykey=\"location-distance\" data-component=\"filter-apply\" id=\"location-distance\" name=\"maximum_distance\"><option value=\"10\">10 miles</option><option value=\"20\">20 miles</option><option value=\"30\">30 miles</option><option value=\"40\">40 miles</option><option value=\"50\">50 miles</option><option value=\"75\">75 miles</option><option value=\"100\">100 miles</option><option value=\"150\">150 miles</option><option value=\"200\">200 miles</option><option value=\"250\">250 miles</option><option value=\"500\">500 miles</option><option selected=\"\" value=\"all\">All miles from</option></select>,\n",
       " <select class=\"sds-text-field\" data-activity-rule-type=\"pageview\" data-activitykey=\"stock-type-select\" data-component=\"filter-apply\" id=\"stock-type-select\" name=\"stock_type\"><option value=\"all\">New &amp; Used</option><option value=\"new_cpo\">New &amp; Certified</option><option value=\"new\">New</option><option value=\"used\">Used</option><option selected=\"\" value=\"cpo\">Certified</option></select>,\n",
       " <select class=\"sds-text-field\" data-activity-rule-type=\"pageview\" data-activitykey=\"make_select\" data-component=\"filter-apply\" id=\"make_select\" name=\"makes[]\" phx-hook=\"MakeChange\"><option value=\"\">All makes</option><optgroup label=\"Popular makes\"><option value=\"acura\">Acura</option><option value=\"bmw\">BMW</option><option value=\"buick\">Buick</option><option value=\"cadillac\">Cadillac</option><option value=\"chevrolet\">Chevrolet</option><option value=\"chrysler\">Chrysler</option><option value=\"dodge\">Dodge</option><option value=\"ford\">Ford</option><option value=\"gmc\">GMC</option><option value=\"honda\">Honda</option><option value=\"infiniti\">INFINITI</option><option value=\"jeep\">Jeep</option><option value=\"kia\">Kia</option><option selected=\"\" value=\"mercedes_benz\">Mercedes-Benz</option><option value=\"mitsubishi\">Mitsubishi</option><option value=\"nissan\">Nissan</option><option value=\"porsche\">Porsche</option><option value=\"ram\">RAM</option><option value=\"subaru\">Subaru</option><option value=\"toyota\">Toyota</option><option value=\"volkswagen\">Volkswagen</option><option value=\"volvo\">Volvo</option></optgroup><optgroup label=\"Other makes\"><option value=\"alfa_romeo\">Alfa Romeo</option><option value=\"aston_martin\">Aston Martin</option><option value=\"bentley\">Bentley</option><option value=\"fiat\">FIAT</option><option value=\"ferrari\">Ferrari</option><option value=\"mini\">MINI</option><option value=\"maserati\">Maserati</option><option value=\"rolls_royce\">Rolls-Royce</option></optgroup></select>,\n",
       " <select class=\"sds-text-field\" data-activity-rule-type=\"pageview\" data-activitykey=\"year_year_min_select\" data-component=\"filter-apply\" id=\"year_year_min_select\" name=\"year_min\"><option selected=\"\" value=\"\">Oldest</option><option value=\"2022\">2022</option><option value=\"2021\">2021</option><option value=\"2020\">2020</option><option value=\"2019\">2019</option><option value=\"2018\">2018</option><option value=\"2017\">2017</option><option value=\"2016\">2016</option><option value=\"2014\">2014</option></select>,\n",
       " <select class=\"sds-text-field\" data-activity-rule-type=\"pageview\" data-activitykey=\"year_year_max_select\" data-component=\"filter-apply\" id=\"year_year_max_select\" name=\"year_max\"><option selected=\"\" value=\"\">Newest</option><option value=\"2022\">2022</option><option value=\"2021\">2021</option><option value=\"2020\">2020</option><option value=\"2019\">2019</option><option value=\"2018\">2018</option><option value=\"2017\">2017</option><option value=\"2016\">2016</option><option value=\"2014\">2014</option></select>,\n",
       " <select class=\"sds-text-field\" data-activity-rule-type=\"pageview\" data-activitykey=\"price_list_price_min_select\" data-component=\"filter-apply\" id=\"price_list_price_min_select\" name=\"list_price_min\"><option selected=\"\" value=\"\">Lowest</option><option value=\"12000\">$12,000</option><option value=\"14000\">$14,000</option><option value=\"16000\">$16,000</option><option value=\"18000\">$18,000</option><option value=\"20000\">$20,000</option><option value=\"25000\">$25,000</option><option value=\"30000\">$30,000</option><option value=\"35000\">$35,000</option><option value=\"40000\">$40,000</option><option value=\"45000\">$45,000</option><option value=\"50000\">$50,000</option><option value=\"60000\">$60,000</option><option value=\"70000\">$70,000</option><option value=\"80000\">$80,000</option><option value=\"90000\">$90,000</option><option value=\"100000\">$100,000</option></select>,\n",
       " <select class=\"sds-text-field\" data-activity-rule-type=\"pageview\" data-activitykey=\"price_list_price_max_select\" data-component=\"filter-apply\" id=\"price_list_price_max_select\" name=\"list_price_max\"><option selected=\"\" value=\"\">Highest</option><option value=\"12000\">$12,000</option><option value=\"14000\">$14,000</option><option value=\"16000\">$16,000</option><option value=\"18000\">$18,000</option><option value=\"20000\">$20,000</option><option value=\"25000\">$25,000</option><option value=\"30000\">$30,000</option><option value=\"35000\">$35,000</option><option value=\"40000\">$40,000</option><option value=\"45000\">$45,000</option><option value=\"50000\">$50,000</option><option value=\"60000\">$60,000</option><option value=\"70000\">$70,000</option><option value=\"80000\">$80,000</option><option value=\"90000\">$90,000</option><option value=\"100000\">$100,000</option></select>,\n",
       " <select class=\"sds-text-field\" data-activity-rule-type=\"pageview\" data-activitykey=\"mileage-select\" data-component=\"filter-apply\" id=\"mileage-select\" name=\"mileage_max\"><option selected=\"\" value=\"\">Any mileage</option><option value=\"10000\">10,000 or less (1766)</option><option value=\"20000\">20,000 or less (4258)</option><option value=\"30000\">30,000 or less (6589)</option><option value=\"40000\">40,000 or less (8423)</option><option value=\"50000\">50,000 or less (9421)</option><option value=\"60000\">60,000 or less (9759)</option><option value=\"70000\">70,000 or less (9861)</option><option value=\"80000\">80,000 or less (9887)</option><option value=\"90000\">90,000 or less (9888)</option><option value=\"100000\">100,000 or less (9889)</option><option value=\"150000\">150,000 or less (9889)</option><option value=\"200000\">200,000 or less (9889)</option><option value=\"250000\">250,000 or less (9889)</option></select>]"
      ]
     },
     "execution_count": 24,
     "metadata": {},
     "output_type": "execute_result"
    }
   ],
   "source": [
    "main_results = soup.find_all('select', {'class':'sds-text-field'})\n",
    "\n",
    "main_results"
   ]
  },
  {
   "cell_type": "code",
   "execution_count": null,
   "metadata": {},
   "outputs": [],
   "source": []
  }
 ],
 "metadata": {
  "interpreter": {
   "hash": "5039432be1dc607f8e25a2c14c7ca9ac058aa173b139a1c548f65df8ede7c3eb"
  },
  "kernelspec": {
   "display_name": "Python 3.10.0 ('scraper_venv': venv)",
   "language": "python",
   "name": "python3"
  },
  "language_info": {
   "codemirror_mode": {
    "name": "ipython",
    "version": 3
   },
   "file_extension": ".py",
   "mimetype": "text/x-python",
   "name": "python",
   "nbconvert_exporter": "python",
   "pygments_lexer": "ipython3",
   "version": "3.10.0"
  },
  "orig_nbformat": 4
 },
 "nbformat": 4,
 "nbformat_minor": 2
}
