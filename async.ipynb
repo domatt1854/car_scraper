{
 "cells": [
  {
   "cell_type": "code",
   "execution_count": 1,
   "metadata": {},
   "outputs": [],
   "source": [
    "import asyncio\n",
    "from bs4 import BeautifulSoup\n",
    "import requests"
   ]
  },
  {
   "cell_type": "code",
   "execution_count": 2,
   "metadata": {},
   "outputs": [],
   "source": [
    "class CarScraper:\n",
    "\n",
    "    def __init__(self):\n",
    "        self.ua = []\n",
    "        self.proxies = []\n",
    "\n",
    "    async def get_user_agents(self):\n",
    "\n",
    "        with open('data/useragents.txt', 'r') as f:\n",
    "            lines = f.readlines()\n",
    "\n",
    "        for line in lines:\n",
    "            self.ua.append(line.strip())\n",
    "        \n",
    "        \n",
    "\n",
    "    async def get_proxies(self):\n",
    "    \n",
    "        proxy_website = 'https://free-proxy-list.net/'\n",
    "\n",
    "        response = requests.get(proxy_website)\n",
    "        proxies = []\n",
    "\n",
    "        soup = BeautifulSoup(\n",
    "            response.content,\n",
    "            'html.parser'\n",
    "        )       \n",
    "\n",
    "        for row in soup.find(\"table\").find_all('tr'):\n",
    "            if(len(row.find_all('td')) > 0):\n",
    "                ip = str(row.find_all('td')[0]).strip('<td>').strip('</')\n",
    "                port = str(row.find_all('td')[1]).strip('<td>').strip('</')\n",
    "                self.proxies.append(ip + \":\" + port)\n",
    "\n",
    "                print(\"{}:{}\".format(ip, port))\n",
    "            \n",
    "    \n",
    "    # todo: hit the website with every make and calculate how much pages I should parse\n",
    "    "
   ]
  },
  {
   "cell_type": "code",
   "execution_count": null,
   "metadata": {},
   "outputs": [],
   "source": [
    "async def main():\n",
    "    cs = CarScraper()\n",
    "\n",
    "    get_proxies_task = asyncio.create_task(\n",
    "        cs.get_proxies()\n",
    "    )\n",
    "    \n",
    "    get_ua_task = asyncio.create_task(\n",
    "        cs.get_user_agents()\n",
    "    )\n",
    "\n",
    "    await get_proxies_task\n",
    "    await get_ua_task"
   ]
  }
 ],
 "metadata": {
  "interpreter": {
   "hash": "a10952e17dd883d6302eac1e036e36dcb3487f19459e2c44250fa5bf9b43a0bf"
  },
  "kernelspec": {
   "display_name": "Python 3.9.4 ('scraper_venv': venv)",
   "language": "python",
   "name": "python3"
  },
  "language_info": {
   "codemirror_mode": {
    "name": "ipython",
    "version": 3
   },
   "file_extension": ".py",
   "mimetype": "text/x-python",
   "name": "python",
   "nbconvert_exporter": "python",
   "pygments_lexer": "ipython3",
   "version": "3.9.4"
  },
  "orig_nbformat": 4
 },
 "nbformat": 4,
 "nbformat_minor": 2
}
